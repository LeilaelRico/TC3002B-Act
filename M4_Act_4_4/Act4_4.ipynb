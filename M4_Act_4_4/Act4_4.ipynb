{
  "cells": [
    {
      "cell_type": "code",
      "execution_count": 10,
      "metadata": {},
      "outputs": [
        {
          "name": "stderr",
          "output_type": "stream",
          "text": [
            "[nltk_data] Downloading package punkt to\n",
            "[nltk_data]     C:\\Users\\crisb\\AppData\\Roaming\\nltk_data...\n",
            "[nltk_data]   Package punkt is already up-to-date!\n",
            "[nltk_data] Downloading package stopwords to\n",
            "[nltk_data]     C:\\Users\\crisb\\AppData\\Roaming\\nltk_data...\n",
            "[nltk_data]   Package stopwords is already up-to-date!\n"
          ]
        }
      ],
      "source": [
        "from nltk.stem import PorterStemmer\n",
        "from nltk.tokenize import word_tokenize\n",
        "import os\n",
        "import markovify\n",
        "import nltk\n",
        "from nltk.corpus import stopwords\n",
        "from sklearn.feature_extraction.text import TfidfVectorizer\n",
        "from sklearn.metrics.pairwise import cosine_similarity\n",
        "import re\n",
        "\n",
        "# Descargar recursos adicionales de NLTK\n",
        "nltk.download('punkt')\n",
        "nltk.download('stopwords')\n",
        "\n",
        "# Ruta del archivo de texto\n",
        "ruta_archivo = \".\\\\interes.txt\"\n",
        "\n",
        "# Rutas de los códigos\n",
        "ruta_archivo_1 = \".\\\\calc.c\"\n",
        "ruta_archivo_2 = \".\\\\calc1.c\""
      ]
    },
    {
      "cell_type": "code",
      "execution_count": 13,
      "metadata": {},
      "outputs": [],
      "source": [
        "# Función para cargar el contenido de un archivo\n",
        "\n",
        "\n",
        "def cargar_contenido(ruta_archivo):\n",
        "    with open(ruta_archivo, 'r', encoding='utf-8') as archivo:\n",
        "        contenido = archivo.read()\n",
        "    return contenido"
      ]
    },
    {
      "cell_type": "code",
      "execution_count": 94,
      "metadata": {
        "colab": {
          "base_uri": "https://localhost:8080/"
        },
        "id": "mkJFoUcIxX7T",
        "outputId": "56fe7436-d688-455a-c3d2-1ca8f62ddc96"
      },
      "outputs": [
        {
          "name": "stdout",
          "output_type": "stream",
          "text": [
            "\n",
            "Texto Original:\n",
            " La carrera espacial, un capítulo fascinante en la historia de la humanidad, ha sido una narrativa llena de ambición, innovación y rivalidad geopolítica que ha impulsado los límites de la exploración humana más allá de la atmósfera terrestre. Este emocionante período, que se desarrolló principalmente durante la Guerra Fría entre Estados Unidos y la Unión Soviética, marcó el comienzo de una era de descubrimiento cósmico sin precedentes.\n",
            "\n",
            "El punto de partida oficial de la carrera espacial se remonta al 4 de octubre de 1957, cuando la Unión Soviética lanzó el Sputnik 1, el primer satélite artificial de la Tierra, al espacio. Este evento histórico no solo marcó el inicio de la exploración espacial, sino que también desencadenó una intensa competencia entre Estados Unidos y la URSS por la supremacía tecnológica y militar en el cosmos.\n",
            "\n",
            "La respuesta estadounidense no se hizo esperar, y en 1958, la NASA fue establecida como una respuesta directa al desafío soviético. En los años siguientes, ambos países alcanzaron una serie de hitos impresionantes en la carrera hacia el espacio. Yuri Gagarin se convirtió en el primer humano en orbitar la Tierra en 1961 a bordo de la nave Vostok 1, seguido poco después por Alan Shepard, el primer estadounidense en el espacio.\n",
            "\n",
            "El enfrentamiento culminó en uno de los momentos más emblemáticos de la historia moderna: la llegada del hombre a la Luna. El 20 de julio de 1969, el astronauta estadounidense Neil Armstrong pronunció las palabras inolvidables: \"Es un pequeño paso para el hombre, pero un gran salto para la humanidad\", cuando dio su primer paso en la superficie lunar. La misión del Apolo 11 no solo fue un triunfo técnico y científico, sino también un símbolo de esperanza y unidad para toda la humanidad.\n",
            "\n",
            "Sin embargo, la carrera espacial no se limitó solo a la conquista de la Luna. Durante las décadas siguientes, las exploraciones espaciales se expandieron hacia nuevas fronteras, con misiones a Marte, Venus, Júpiter y más allá. Las estaciones espaciales, como la Mir y la Estación Espacial Internacional (ISS), se convirtieron en laboratorios de investigación en órbita, donde científicos de todo el mundo colaboraron en experimentos que ampliaron nuestro conocimiento sobre el universo y la vida en el espacio.\n",
            "\n",
            "Aunque la rivalidad entre Estados Unidos y la Unión Soviética disminuyó con el tiempo, la exploración espacial ha seguido siendo una empresa global. Hoy en día, agencias espaciales de todo el mundo, incluidas la NASA, la Agencia Espacial Europea (ESA), la Agencia Espacial China (CNSA) y muchas otras, colaboran en misiones conjuntas y proyectos científicos que continúan expandiendo nuestros horizontes en el cosmos.\n",
            "\n",
            "La carrera espacial ha dejado un legado duradero en la historia de la humanidad. No solo ha llevado a avances tecnológicos y científicos significativos, sino que también ha inspirado generaciones de soñadores y exploradores a mirar hacia las estrellas con asombro y admiración. A medida que miramos hacia el futuro, la exploración del espacio sigue siendo un recordatorio de la capacidad del ser humano para alcanzar lo imposible cuando se unen la determinación, la creatividad y la colaboración internacional.\n",
            "\n",
            "\n",
            "*************************************************************\n",
            "\n",
            "Texto Sintético Generado:\n",
            " Este evento histórico no solo marcó el inicio de la historia de la nave Vostok 1, seguido poco después por Alan Shepard, el primer satélite artificial de la Tierra, al espacio.\n",
            "La misión del Apolo 11 no solo marcó el comienzo de una era de descubrimiento cósmico sin precedentes.\n",
            "La carrera espacial, un capítulo fascinante en la historia moderna: la llegada del hombre a la conquista de la historia de la humanidad.\n",
            "Sin embargo, la carrera hacia el futuro, la exploración espacial ha seguido siendo una empresa global.\n",
            "El enfrentamiento culminó en uno de los momentos más emblemáticos de la carrera espacial no se limitó solo a la conquista de la Tierra, al espacio.\n",
            "El punto de partida oficial de la exploración humana más allá de la Tierra, al espacio.\n",
            "La carrera espacial se remonta al 4 de octubre de 1957, cuando la Unión Soviética disminuyó con el tiempo, la exploración del espacio sigue siendo un recordatorio de la Luna.\n",
            "La misión del Apolo 11 no solo marcó el comienzo de una era de descubrimiento cósmico sin precedentes.\n",
            "Este evento histórico no solo marcó el inicio de la nave Vostok 1, seguido poco después por Alan Shepard, el primer humano en orbitar la Tierra en 1961 a bordo de la Luna.\n",
            "No solo ha llevado a avances tecnológicos y científicos significativos, sino que también desencadenó una intensa competencia entre Estados Unidos y la Unión Soviética disminuyó con el tiempo, la exploración del espacio sigue siendo un recordatorio de la Luna.\n",
            "A medida que miramos hacia el futuro, la exploración humana más allá de la nave Vostok 1, seguido poco después por Alan Shepard, el primer satélite artificial de la Tierra, al espacio.\n",
            "La carrera espacial, un capítulo fascinante en la carrera espacial ha dejado un legado duradero en la historia de la atmósfera terrestre.\n",
            "La respuesta estadounidense no se limitó solo a la conquista de la historia moderna: la llegada del hombre a la Luna.\n",
            "Este evento histórico no solo marcó el comienzo de una era de descubrimiento cósmico sin precedentes.\n",
            "En los años siguientes, ambos países alcanzaron una serie de hitos impresionantes en la historia moderna: la llegada del hombre a la Luna.\n",
            "El punto de partida oficial de la Tierra, al espacio.\n",
            "Este evento histórico no solo marcó el inicio de la exploración espacial ha dejado un legado duradero en la historia de la exploración espacial ha dejado un legado duradero en la historia de la atmósfera terrestre.\n",
            "En los años siguientes, ambos países alcanzaron una serie de hitos impresionantes en la historia de la carrera espacial ha seguido siendo una empresa global.\n",
            "La carrera espacial se remonta al 4 de octubre de 1957, cuando la Unión Soviética disminuyó con el tiempo, la exploración espacial ha dejado un legado duradero en la historia de la Tierra, al espacio.\n",
            "La misión del Apolo 11 no solo marcó el comienzo de una era de descubrimiento cósmico sin precedentes.\n",
            "La carrera espacial, un capítulo fascinante en la historia moderna: la llegada del hombre a la Luna.\n",
            "No solo ha llevado a avances tecnológicos y científicos significativos, sino que también desencadenó una intensa competencia entre Estados Unidos y la colaboración internacional.\n",
            "La respuesta estadounidense no se limitó solo a la Luna.\n",
            "La carrera espacial, un capítulo fascinante en la carrera espacial se remonta al 4 de octubre de 1957, cuando la Unión Soviética, marcó el inicio de la Luna.\n",
            "El enfrentamiento culminó en uno de los momentos más emblemáticos de la nave Vostok 1, seguido poco después por Alan Shepard, el primer humano en orbitar la Tierra en 1961 a bordo de la humanidad.\n",
            "\n",
            "\n",
            "Similitud de Coseno entre el Texto Original y el Texto Sintético: 0.9137\n"
          ]
        }
      ],
      "source": [
        "def crear_modelo(texto):\n",
        "    return markovify.Text(texto)\n",
        "\n",
        "# 3. Generar el texto sintético\n",
        "\n",
        "\n",
        "def generar_texto_sintetico(modelo, num_oraciones=25):\n",
        "    texto_sintetico = ''\n",
        "    for _ in range(num_oraciones):\n",
        "        oracion = modelo.make_sentence()\n",
        "        if oracion:\n",
        "            texto_sintetico += oracion + '\\n'\n",
        "    return texto_sintetico\n",
        "\n",
        "\n",
        "# Cargar el contenido del archivo de texto\n",
        "texto_original = cargar_contenido(ruta_archivo)\n",
        "\n",
        "# Crear el modelo de texto con Markovify\n",
        "modelo = crear_modelo(texto_original)\n",
        "\n",
        "# Generar el texto sintético\n",
        "texto_sintetico = generar_texto_sintetico(modelo)\n",
        "\n",
        "# Imprimir texto original\n",
        "\n",
        "print(\"\\nTexto Original:\\n\", texto_original)\n",
        "\n",
        "# Imprimir el texto sintético generado\n",
        "print(\"\\n\\n*************************************************************\")\n",
        "print(\"\\nTexto Sintético Generado:\\n\", texto_sintetico)\n",
        "\n",
        "synthetic_text = ' '.join([word for word in texto_sintetico.split()])\n",
        "\n",
        "# Crear un corpus combinado de texto original y sintético\n",
        "corpus = [texto_original, synthetic_text]\n",
        "\n",
        "# Generar vectores TF-IDF\n",
        "vectorizer = TfidfVectorizer()\n",
        "tfidf_matrix = vectorizer.fit_transform(corpus)\n",
        "\n",
        "# Calcular la similitud de coseno\n",
        "similarity = cosine_similarity(tfidf_matrix[0:1], tfidf_matrix[1:2])\n",
        "\n",
        "print(\"\\nSimilitud de Coseno entre el Texto Original y el Texto Sintético:\",\n",
        "      round(similarity[0][0], 4))"
      ]
    },
    {
      "cell_type": "code",
      "execution_count": 15,
      "metadata": {
        "id": "63mzBVRH0qIz"
      },
      "outputs": [
        {
          "name": "stdout",
          "output_type": "stream",
          "text": [
            "Similitud de Coseno entre los Archivos: 0.7299\n"
          ]
        }
      ],
      "source": [
        "# Función para preprocesar el texto\n",
        "\n",
        "\n",
        "def preprocesar_texto(texto):\n",
        "    tokens = word_tokenize(texto)  # Tokenización\n",
        "    # Se convierte todo a minúsculas\n",
        "    tokens = [token.lower() for token in tokens if token.isalnum()]\n",
        "    # Al programarse en inglés, se toman en cuenta las palabras vacías de ese idioma\n",
        "    stop_words = set(stopwords.words('english'))\n",
        "    # Eliminar palabras vacías\n",
        "    tokens = [token for token in tokens if token not in stop_words]\n",
        "    stemmer = PorterStemmer()  # Inicializar el stemmer\n",
        "    tokens = [stemmer.stem(token) for token in tokens]  # Aplicar stemming\n",
        "    return ' '.join(tokens)  # Devolver texto preprocesado como una cadena\n",
        "\n",
        "# Cargar el contenido de los archivos\n",
        "contenido_1 = cargar_contenido(ruta_archivo_1)\n",
        "contenido_2 = cargar_contenido(ruta_archivo_2)\n",
        "\n",
        "# Preprocesar el texto de ambos archivos\n",
        "texto_preprocesado_1 = preprocesar_texto(contenido_1)\n",
        "texto_preprocesado_2 = preprocesar_texto(contenido_2)\n",
        "\n",
        "# Crear un corpus combinado de texto original y preprocesado\n",
        "corpus = [texto_preprocesado_1, texto_preprocesado_2]\n",
        "\n",
        "# Generar vectores TF-IDF\n",
        "vectorizer = TfidfVectorizer()\n",
        "tfidf_matrix = vectorizer.fit_transform(corpus)\n",
        "\n",
        "# Calcular la similitud de coseno entre los vectores TF-IDF de los archivos\n",
        "similitud_coseno = cosine_similarity(tfidf_matrix[0:1], tfidf_matrix[1:2])\n",
        "\n",
        "print(\"Similitud de Coseno entre los Archivos:\", round(similitud_coseno[0][0], 4))"
      ]
    }
  ],
  "metadata": {
    "colab": {
      "provenance": []
    },
    "kernelspec": {
      "display_name": "Python 3",
      "name": "python3"
    },
    "language_info": {
      "codemirror_mode": {
        "name": "ipython",
        "version": 3
      },
      "file_extension": ".py",
      "mimetype": "text/x-python",
      "name": "python",
      "nbconvert_exporter": "python",
      "pygments_lexer": "ipython3",
      "version": "3.12.2"
    }
  },
  "nbformat": 4,
  "nbformat_minor": 0
}
