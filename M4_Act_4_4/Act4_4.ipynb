{
  "cells": [
    {
      "cell_type": "code",
      "execution_count": 1,
      "metadata": {
        "id": "OWUGPqDhvgP-"
      },
      "outputs": [],
      "source": [
        "import os\n",
        "import markovify\n",
        "import nltk\n",
        "from nltk.corpus import stopwords\n",
        "from sklearn.feature_extraction.text import TfidfVectorizer\n",
        "from sklearn.metrics.pairwise import cosine_similarity\n",
        "import re"
      ]
    },
    {
      "cell_type": "code",
      "execution_count": 2,
      "metadata": {
        "id": "JWWCtrWj1gVP"
      },
      "outputs": [],
      "source": [
        "def cargar_texto(file_path):\n",
        "    with open(file_path, 'r', encoding='utf-8') as file:\n",
        "        text = file.read()\n",
        "    return text"
      ]
    },
    {
      "cell_type": "code",
      "execution_count": 3,
      "metadata": {
        "colab": {
          "base_uri": "https://localhost:8080/"
        },
        "id": "mkJFoUcIxX7T",
        "outputId": "56fe7436-d688-455a-c3d2-1ca8f62ddc96"
      },
      "outputs": [
        {
          "name": "stdout",
          "output_type": "stream",
          "text": [
            "\n",
            "Texto Original:\n",
            " La abeja fósil más antigua conocida (encontrada en ámbar de Birmania y descrita en 2006) pertenece al Cretácico temprano y presenta caracteres muy primitivos que la relacionan con las avispas. Se la denominó Melittosphex burmensis y se calcula que su edad es de alrededor de 100 millones de años.[42]​ Tiene caracteres especializados, apomorfias, típicos de Anthophila, o sea de abejas, pero además conserva dos caracteres ancestrales o plesiomorfias de las patas (dos espolones tibiales y un basitarso delgado), que son caracteres de transición entre las abejas y otros grupos de himenópteros.\n",
            "\n",
            "Otra abeja fósil descubierta en ámbar es Cretotrigona prisca, de Nueva Jersey, Estados Unidos; su edad se calcula entre 65 y 75 millones de años, a fines del Cretácico, o sea, alrededor de 30 millones de años más reciente que Melittosphex burmensis. Es un miembro de la subfamilia Meliponinae en la familia Apidae y es considerada una especie más avanzada evolutivamente.\n",
            "\n",
            "Los primeros polinizadores no fueron abejas sino escarabajos y/o moscas, es decir, que el síndrome floral de polinización por insectos ya estaba bien establecido cuando aparecieron las abejas. Lo importante de estas es que desarrollaron especializaciones o adaptaciones a esta función lo que las llevaron a ser los polinizadores más eficientes de las flores. Es posible que la aparición de estas adaptaciones haya motivado o contribuido a la radiación adaptativa de las plantas con flores (Magnoliophyta), contribuyendo a su vez al aumento de la biodiversidad de las abejas.\n",
            "\n",
            "De los grupos vivientes se considera que Melittidae es el más primitivo y que es el taxón hermano de todas las otras abejas. Anteriormente se creía que Colletidae era el grupo basal por tener una lengua corta, considerada primitiva por ser similar a la de las avispas, pero hoy en día se piensa que se trata de evolución convergente y no una condición plesiomórfica.\n",
            "\n",
            "Muchas abejas tienen coloración aposemática (que anuncia a sus enemigos que les puede causar daño con su picadura). Generalmente son colores brillantes como naranja y negro. Estos insectos sirven de modelos de mimetismo batesiano para insectos que carecen de esas defensas y no pican pero que recurren al engaño para protegerse de sus depredadores. Algunas moscas de las familias Syrphidae, Asilidae, Tabanidae, Oestridae y Bombyliidae, que son frecuentes visitantes de las flores, obtienen protección de esta manera.[50]​\n",
            "\n",
            "Las abejas mismas son mímicos müllerianos de otros insectos aposemáticos con colores semejantes, por ejemplo avispas, escarabajos de la familia Lycidae y algunas mariposas y polillas (Lepidoptera) que tienen un sabor desagradable. Este sabor es adquirido generalmente de las plantas de que se alimentan. El mimetismo mülleriano beneficia a todos los miembros del grupo gracias a la reducción de depredación.[51]​\n",
            "\n",
            "Algunas plantas mimetizan a las abejas. Tal es el caso de la orquídea abeja que imita el olor y la apariencia de la hembra de ciertas especies de abejas. El macho trata de aparearse con la flor (pseudocopulación) y al hacerlo repetidamente transporta las polinias de una orquídea a otra.[52]\n",
            "\n",
            "Cuatro familias de abejas (Apidae, Andrenidae, Colletidae y Halictidae) contienen algunas especies que son crepusculares o nocturnas, es decir que son activas entre la puesta del sol y el amanecer. La mayoría son tropicales o subtropicales, pero también algunas se encuentran en regiones áridas en latitudes más altas. Estas abejas tienen ocelos de gran tamaño, sumamente sensibles a la luz de baja intensidad, pero incapaces de ver imágenes. Los ojos compuestos también están adaptados a la luz escasa. Su capacidad de vuelo nocturno les permite evitar algunos depredadores y les da acceso a flores que producen néctar solo de noche o principalmente de noche.[56]\n",
            "Los antófilos (Anthophila, del griego ‘que aman las flores’), conocidos comúnmente como abejas, son un clado de insectos himenópteros, sin ubicación en categoría taxonómica, dentro de la superfamilia Apoidea. Se trata de un linaje monofilético con más de 20 000 especies conocidas. Las abejas, al igual que las hormigas, evolucionaron a partir de himenópteros aculeados. Los antepasados de las abejas estaban relacionados con la familia Crabronidae y eran depredadores de insectos. Es posible que las primeras abejas se hayan alimentado del polen que cubría a algunas de sus presas y que, gradualmente, hayan empezado a alimentar a sus crías con polen en lugar de insectos.[1]​\n",
            "\n",
            "Hay muchas más especies que aún no han sido descritas. Se las encuentra en todos los continentes, excepto en la Antártida. Están en todos los hábitats donde hay plantas con flores (angiospermas). Están adaptadas para alimentarse de polen y néctar, usando el primero fundamentalmente como alimento para las larvas y el segundo como material energético. La especie más conocida es la abeja doméstica (Apis mellifera), a veces simplemente llamada “abeja”; esta especie es un insecto social que vive en enjambres formados por tres clases de individuos: reina, obreras y zánganos; sin embargo, la mayoría de las especies de abejas son solitarias, es decir, que no forman enjambres. Existe también un número de especies semisociales, con capacidad de formar colonias; por ejemplo, los abejorros. Estas colonias no llegan a ser tan grandes ni duraderas como las de la abeja doméstica.\n",
            "\n",
            "\n",
            "*************************************************************\n",
            "\n",
            "Texto Sintético Generado:\n",
            " Los antepasados de las flores.\n",
            "De los grupos vivientes se considera que Melittidae es el taxón hermano de todas las otras abejas.\n",
            "Las abejas, al igual que las llevaron a ser los polinizadores más eficientes de las abejas estaban relacionados con la familia Apidae y es considerada una especie más avanzada evolutivamente.\n",
            "De los grupos vivientes se considera que Melittidae es el taxón hermano de todas las otras abejas.\n",
            "Es un miembro de la abeja doméstica.\n",
            "\n",
            "\n",
            "Similitud de Coseno entre el Texto Original y el Texto Sintético: 0.727814646720984\n"
          ]
        }
      ],
      "source": [
        "def crear_modelo(texto):\n",
        "    return markovify.Text(texto)\n",
        "\n",
        "# 3. Generar el texto sintético\n",
        "def generar_texto_sintetico(modelo, num_oraciones=5):\n",
        "    texto_sintetico = ''\n",
        "    for _ in range(num_oraciones):\n",
        "        oracion = modelo.make_sentence()\n",
        "        if oracion:\n",
        "            texto_sintetico += oracion + '\\n'\n",
        "    return texto_sintetico\n",
        "\n",
        "# Ruta del archivo de texto\n",
        "ruta_archivo = \".\\\\interes.txt\"  # Reemplaza \"ruta_del_archivo.txt\" con la ruta real de tu archivo\n",
        "\n",
        "# Cargar el contenido del archivo de texto\n",
        "texto_original = cargar_texto(ruta_archivo)\n",
        "\n",
        "# Crear el modelo de texto con Markovify\n",
        "modelo = crear_modelo(texto_original)\n",
        "\n",
        "# Generar el texto sintético\n",
        "texto_sintetico = generar_texto_sintetico(modelo)\n",
        "\n",
        "# Imprimir texto original\n",
        "\n",
        "print(\"\\nTexto Original:\\n\", texto_original)\n",
        "\n",
        "# Imprimir el texto sintético generado\n",
        "print(\"\\n\\n*************************************************************\")\n",
        "print(\"\\nTexto Sintético Generado:\\n\", texto_sintetico)\n",
        "\n",
        "synthetic_text = ' '.join([word for word in texto_sintetico.split()])\n",
        "\n",
        "# Crear un corpus combinado de texto original y sintético\n",
        "corpus = [texto_original, synthetic_text]\n",
        "\n",
        "# Generar vectores TF-IDF\n",
        "vectorizer = TfidfVectorizer()\n",
        "tfidf_matrix = vectorizer.fit_transform(corpus)\n",
        "\n",
        "# Calcular la similitud de coseno\n",
        "similarity = cosine_similarity(tfidf_matrix[0:1], tfidf_matrix[1:2])\n",
        "\n",
        "print(\"\\nSimilitud de Coseno entre el Texto Original y el Texto Sintético:\", similarity[0][0])"
      ]
    },
    {
      "cell_type": "code",
      "execution_count": 7,
      "metadata": {
        "id": "63mzBVRH0qIz"
      },
      "outputs": [
        {
          "name": "stdout",
          "output_type": "stream",
          "text": [
            "Similitud de Coseno entre los Archivos: 0.7298560218902296\n"
          ]
        },
        {
          "name": "stderr",
          "output_type": "stream",
          "text": [
            "[nltk_data] Downloading package punkt to\n",
            "[nltk_data]     C:\\Users\\crisb\\AppData\\Roaming\\nltk_data...\n",
            "[nltk_data]   Package punkt is already up-to-date!\n",
            "[nltk_data] Downloading package stopwords to\n",
            "[nltk_data]     C:\\Users\\crisb\\AppData\\Roaming\\nltk_data...\n",
            "[nltk_data]   Package stopwords is already up-to-date!\n"
          ]
        }
      ],
      "source": [
        "from nltk.tokenize import word_tokenize\n",
        "from nltk.corpus import stopwords\n",
        "from nltk.stem import PorterStemmer\n",
        "from sklearn.feature_extraction.text import TfidfVectorizer\n",
        "from sklearn.metrics.pairwise import cosine_similarity\n",
        "import nltk\n",
        "\n",
        "# Descargar recursos adicionales de NLTK\n",
        "nltk.download('punkt')\n",
        "nltk.download('stopwords')\n",
        "\n",
        "# Función para cargar el contenido de un archivo\n",
        "def cargar_contenido(ruta_archivo):\n",
        "    with open(ruta_archivo, 'r', encoding='utf-8') as archivo:\n",
        "        contenido = archivo.read()\n",
        "    return contenido\n",
        "\n",
        "# Función para preprocesar el texto\n",
        "def preprocesar_texto(texto):\n",
        "    tokens = word_tokenize(texto)  # Tokenización\n",
        "    tokens = [token.lower() for token in tokens if token.isalnum()]  # Convertir a minúsculas y eliminar puntuación\n",
        "    stop_words = set(stopwords.words('english'))  # Palabras vacías en inglés (puedes adaptarlo según sea necesario)\n",
        "    tokens = [token for token in tokens if token not in stop_words]  # Eliminar palabras vacías\n",
        "    stemmer = PorterStemmer()  # Inicializar el stemmer\n",
        "    tokens = [stemmer.stem(token) for token in tokens]  # Aplicar stemming\n",
        "    return ' '.join(tokens)  # Devolver texto preprocesado como una cadena\n",
        "\n",
        "# Rutas de los archivos\n",
        "ruta_archivo_1 = \".\\\\calc.c\"  # Reemplaza \"archivo_1.c\" con la ruta real del primer archivo\n",
        "ruta_archivo_2 = \".\\\\calc1.c\"  # Reemplaza \"archivo_2.c\" con la ruta real del segundo archivo\n",
        "\n",
        "# Cargar el contenido de los archivos\n",
        "contenido_1 = cargar_contenido(ruta_archivo_1)\n",
        "contenido_2 = cargar_contenido(ruta_archivo_2)\n",
        "\n",
        "# Preprocesar el texto de ambos archivos\n",
        "texto_preprocesado_1 = preprocesar_texto(contenido_1)\n",
        "texto_preprocesado_2 = preprocesar_texto(contenido_2)\n",
        "\n",
        "# Crear un corpus combinado de texto original y preprocesado\n",
        "corpus = [texto_preprocesado_1, texto_preprocesado_2]\n",
        "\n",
        "# Generar vectores TF-IDF\n",
        "vectorizer = TfidfVectorizer()\n",
        "tfidf_matrix = vectorizer.fit_transform(corpus)\n",
        "\n",
        "# Calcular la similitud de coseno entre los vectores TF-IDF de los archivos\n",
        "similitud_coseno = cosine_similarity(tfidf_matrix[0:1], tfidf_matrix[1:2])\n",
        "\n",
        "print(\"Similitud de Coseno entre los Archivos:\", similitud_coseno[0][0])"
      ]
    }
  ],
  "metadata": {
    "colab": {
      "provenance": []
    },
    "kernelspec": {
      "display_name": "Python 3",
      "name": "python3"
    },
    "language_info": {
      "codemirror_mode": {
        "name": "ipython",
        "version": 3
      },
      "file_extension": ".py",
      "mimetype": "text/x-python",
      "name": "python",
      "nbconvert_exporter": "python",
      "pygments_lexer": "ipython3",
      "version": "3.12.2"
    }
  },
  "nbformat": 4,
  "nbformat_minor": 0
}
